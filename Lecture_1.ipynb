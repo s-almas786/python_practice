{
 "cells": [
  {
   "cell_type": "code",
   "execution_count": 2,
   "id": "e220ce38",
   "metadata": {},
   "outputs": [],
   "source": [
    "name = \"Samar Almas\""
   ]
  },
  {
   "cell_type": "code",
   "execution_count": 4,
   "id": "0f8376a5",
   "metadata": {
    "scrolled": false
   },
   "outputs": [
    {
     "name": "stdout",
     "output_type": "stream",
     "text": [
      "My name is Samar Almas\n"
     ]
    }
   ],
   "source": [
    "print(\"My name is {}\".format(name))"
   ]
  },
  {
   "cell_type": "markdown",
   "id": "f4eda024",
   "metadata": {},
   "source": [
    "# Samar"
   ]
  },
  {
   "cell_type": "code",
   "execution_count": 1,
   "id": "b7dce4ba",
   "metadata": {},
   "outputs": [],
   "source": [
    "name = \"Samar Almas\""
   ]
  },
  {
   "cell_type": "code",
   "execution_count": 2,
   "id": "00b21d4d",
   "metadata": {},
   "outputs": [
    {
     "name": "stdout",
     "output_type": "stream",
     "text": [
      "2220933785520\n",
      "2220933826288\n",
      "2220933068976\n",
      "2220933826288\n"
     ]
    }
   ],
   "source": [
    "print(id(name[0]))\n",
    "print(id(name[1]))\n",
    "print(id(name[2]))\n",
    "print(id(name[3]))"
   ]
  },
  {
   "cell_type": "code",
   "execution_count": null,
   "id": "87391f7b",
   "metadata": {},
   "outputs": [],
   "source": []
  }
 ],
 "metadata": {
  "kernelspec": {
   "display_name": "Python 3 (ipykernel)",
   "language": "python",
   "name": "python3"
  },
  "language_info": {
   "codemirror_mode": {
    "name": "ipython",
    "version": 3
   },
   "file_extension": ".py",
   "mimetype": "text/x-python",
   "name": "python",
   "nbconvert_exporter": "python",
   "pygments_lexer": "ipython3",
   "version": "3.9.7"
  }
 },
 "nbformat": 4,
 "nbformat_minor": 5
}
