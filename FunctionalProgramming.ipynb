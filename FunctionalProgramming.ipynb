{
 "cells": [
  {
   "cell_type": "markdown",
   "id": "9f7b6c65-dc90-4d4a-b9ad-175b3ebcaefc",
   "metadata": {},
   "source": [
    "# Functional Programming"
   ]
  },
  {
   "cell_type": "markdown",
   "id": "773e0710-2dd3-44bf-9c37-2fb351ba2e25",
   "metadata": {
    "tags": []
   },
   "source": [
    "### Lambda Functions"
   ]
  },
  {
   "cell_type": "code",
   "execution_count": 11,
   "id": "b59e167c-eda4-4a2d-8808-c409c4511b61",
   "metadata": {},
   "outputs": [
    {
     "data": {
      "text/plain": [
       "<function __main__.<lambda>(x, y)>"
      ]
     },
     "execution_count": 11,
     "metadata": {},
     "output_type": "execute_result"
    }
   ],
   "source": [
    "lambda x, y : x + y"
   ]
  },
  {
   "cell_type": "code",
   "execution_count": 2,
   "id": "72c644b9-715e-4293-a0be-48d630953005",
   "metadata": {},
   "outputs": [
    {
     "data": {
      "text/plain": [
       "5"
      ]
     },
     "execution_count": 2,
     "metadata": {},
     "output_type": "execute_result"
    }
   ],
   "source": [
    "_(2,3)"
   ]
  },
  {
   "cell_type": "code",
   "execution_count": 3,
   "id": "d26f99d9-56cd-40a2-bb60-1362eddbf877",
   "metadata": {},
   "outputs": [
    {
     "data": {
      "text/plain": [
       "25"
      ]
     },
     "execution_count": 3,
     "metadata": {},
     "output_type": "execute_result"
    }
   ],
   "source": [
    "(lambda x : x**2)(5)"
   ]
  },
  {
   "cell_type": "code",
   "execution_count": 4,
   "id": "b39651b9-e67d-4f28-8ba5-4741b591d692",
   "metadata": {},
   "outputs": [],
   "source": [
    "sum = lambda x ,y : x + y"
   ]
  },
  {
   "cell_type": "code",
   "execution_count": 5,
   "id": "eae12397-f823-466a-bef3-ba19d79acba1",
   "metadata": {},
   "outputs": [
    {
     "data": {
      "text/plain": [
       "100"
      ]
     },
     "execution_count": 5,
     "metadata": {},
     "output_type": "execute_result"
    }
   ],
   "source": [
    "sum(10,90)"
   ]
  },
  {
   "cell_type": "code",
   "execution_count": 6,
   "id": "a4589a79-9c05-42e9-8f30-c432ddb22e74",
   "metadata": {},
   "outputs": [],
   "source": [
    "data = [\n",
    "    [4,\"Danish\"],\n",
    "    [3,\"Ali\"],\n",
    "    [5,\"Wasif\"],\n",
    "    [2,\"Sana\"],\n",
    "    [1,\"Zahid\"]\n",
    "]"
   ]
  },
  {
   "cell_type": "code",
   "execution_count": 7,
   "id": "b14b7e57-9418-42d0-bc98-ec021cec5e93",
   "metadata": {},
   "outputs": [],
   "source": [
    "# I want to sort this array on basis of name\n",
    "data.sort(key = lambda row: row[-1])\n"
   ]
  },
  {
   "cell_type": "code",
   "execution_count": 8,
   "id": "ce4aa7a3-d73b-42dc-9665-7a72636d70c7",
   "metadata": {},
   "outputs": [
    {
     "data": {
      "text/plain": [
       "[[3, 'Ali'], [4, 'Danish'], [2, 'Sana'], [5, 'Wasif'], [1, 'Zahid']]"
      ]
     },
     "execution_count": 8,
     "metadata": {},
     "output_type": "execute_result"
    }
   ],
   "source": [
    "data"
   ]
  },
  {
   "cell_type": "code",
   "execution_count": 9,
   "id": "ff1d0ef4-4511-49aa-af41-a5d267b3c46c",
   "metadata": {},
   "outputs": [],
   "source": [
    "# I want to sort this array on basis of serial number\n",
    "data.sort(key = lambda row: row[0])"
   ]
  },
  {
   "cell_type": "code",
   "execution_count": 10,
   "id": "e743fa77-4986-48a3-b061-3aa4aba6b1fe",
   "metadata": {},
   "outputs": [
    {
     "data": {
      "text/plain": [
       "[[1, 'Zahid'], [2, 'Sana'], [3, 'Ali'], [4, 'Danish'], [5, 'Wasif']]"
      ]
     },
     "execution_count": 10,
     "metadata": {},
     "output_type": "execute_result"
    }
   ],
   "source": [
    "data"
   ]
  },
  {
   "cell_type": "markdown",
   "id": "7bb7b28d-b555-4770-8acc-2486f5bec319",
   "metadata": {},
   "source": [
    "### Map Function"
   ]
  },
  {
   "cell_type": "code",
   "execution_count": 27,
   "id": "4d9831ba-362d-4bc0-9ea6-83d848d56c66",
   "metadata": {},
   "outputs": [],
   "source": [
    "# Square of numbers \n",
    "numbers = list(range(1,11))"
   ]
  },
  {
   "cell_type": "code",
   "execution_count": 28,
   "id": "c414c233-207a-498d-8ad5-ee2ac98ac79d",
   "metadata": {},
   "outputs": [
    {
     "data": {
      "text/plain": [
       "[1, 4, 9, 16, 25, 36, 49, 64, 81, 100]"
      ]
     },
     "execution_count": 28,
     "metadata": {},
     "output_type": "execute_result"
    }
   ],
   "source": [
    "squared_numbers = list(map(lambda x: x**2, numbers))\n",
    "squared_numbers"
   ]
  },
  {
   "cell_type": "code",
   "execution_count": 29,
   "id": "60537136-93ee-4874-9370-15cae87febe8",
   "metadata": {},
   "outputs": [],
   "source": [
    "# add two lists\n",
    "numbers_1 = list(range(1,11))\n",
    "numbers_2 = list(range(11,21))"
   ]
  },
  {
   "cell_type": "code",
   "execution_count": 30,
   "id": "87b7f314-4c66-401d-8a34-3ad92697fdc1",
   "metadata": {},
   "outputs": [
    {
     "data": {
      "text/plain": [
       "[12, 14, 16, 18, 20, 22, 24, 26, 28, 30]"
      ]
     },
     "execution_count": 30,
     "metadata": {},
     "output_type": "execute_result"
    }
   ],
   "source": [
    "sum_lists = list(map(lambda x, y: x + y, numbers_1, numbers_2))\n",
    "sum_lists"
   ]
  },
  {
   "cell_type": "code",
   "execution_count": 31,
   "id": "ddda6e50-e509-4c0d-8af6-26a9fc903f21",
   "metadata": {},
   "outputs": [],
   "source": [
    "# Convert floats into integers\n",
    "float_nums = [11.8, 45.87, 67.80, 1.9, 2.8]"
   ]
  },
  {
   "cell_type": "code",
   "execution_count": 32,
   "id": "1432dc23-4e72-4278-91e4-d1951752262f",
   "metadata": {},
   "outputs": [
    {
     "data": {
      "text/plain": [
       "[11, 45, 67, 1, 2]"
      ]
     },
     "execution_count": 32,
     "metadata": {},
     "output_type": "execute_result"
    }
   ],
   "source": [
    "int_nums = list(map(int, float_nums))\n",
    "int_nums"
   ]
  },
  {
   "cell_type": "markdown",
   "id": "37d11459-8dc0-4ccc-951c-816fea59a968",
   "metadata": {},
   "source": [
    "### Filter Function"
   ]
  },
  {
   "cell_type": "code",
   "execution_count": 3,
   "id": "7a15073f-5ae4-4b0b-97fb-f8d303a5f8aa",
   "metadata": {},
   "outputs": [],
   "source": [
    "#Store even\n",
    "data = [21,54,23,87,90,43,23,11,10]"
   ]
  },
  {
   "cell_type": "code",
   "execution_count": 52,
   "id": "ab84c688-f057-4b31-9796-be6be6d5ac69",
   "metadata": {},
   "outputs": [],
   "source": [
    "# def is_even(value):\n",
    "#     return value % 2 == 0"
   ]
  },
  {
   "cell_type": "code",
   "execution_count": 4,
   "id": "83894f75-7d17-4ef4-9fd2-e03c69909d1b",
   "metadata": {},
   "outputs": [
    {
     "data": {
      "text/plain": [
       "[54, 90, 10]"
      ]
     },
     "execution_count": 4,
     "metadata": {},
     "output_type": "execute_result"
    }
   ],
   "source": [
    "even = list(filter(lambda value: value%2 ==0,  data))\n",
    "even"
   ]
  },
  {
   "cell_type": "code",
   "execution_count": 1,
   "id": "16887a32-26e5-4bb2-aeee-db0f470ff264",
   "metadata": {},
   "outputs": [],
   "source": [
    "#Filter students with gpa greater than or equal to 3.0\n",
    "data = [\n",
    "    [\"Ali\", 3.2],\n",
    "    [\"Bilal\", 2.9],\n",
    "    [\"Chand\", 1.2],\n",
    "    [\"Mehmood\", 3.0],\n",
    "    [\"Danish\", 2.2],\n",
    "]"
   ]
  },
  {
   "cell_type": "code",
   "execution_count": 56,
   "id": "85c9354b-de84-49d2-a9a8-07042f8cfc63",
   "metadata": {},
   "outputs": [],
   "source": [
    "def greater(row):\n",
    "    return row[-1] >= 3.0"
   ]
  },
  {
   "cell_type": "code",
   "execution_count": 2,
   "id": "6dce2628-2eb5-479f-9279-48fa1e682710",
   "metadata": {},
   "outputs": [
    {
     "data": {
      "text/plain": [
       "[['Ali', 3.2], ['Mehmood', 3.0]]"
      ]
     },
     "execution_count": 2,
     "metadata": {},
     "output_type": "execute_result"
    }
   ],
   "source": [
    "three = list(filter(lambda row: row[-1] >= 3.0, data))\n",
    "three"
   ]
  },
  {
   "cell_type": "code",
   "execution_count": 58,
   "id": "b7483c25-c87d-4c25-81c1-bf4e90ddd25f",
   "metadata": {},
   "outputs": [],
   "source": [
    "# filter names ends with ad\n",
    "\n",
    "names = [\"Bilal\", \"Ahmad\", \"Chand\", \"Muhammad\", \"Danish\", \"Amjad\"]"
   ]
  },
  {
   "cell_type": "code",
   "execution_count": 59,
   "id": "0e7fd439-bcc3-4387-945e-560e5a7fa491",
   "metadata": {},
   "outputs": [
    {
     "data": {
      "text/plain": [
       "['Ahmad', 'Muhammad', 'Amjad']"
      ]
     },
     "execution_count": 59,
     "metadata": {},
     "output_type": "execute_result"
    }
   ],
   "source": [
    "ends_with_ad = list(filter(lambda name: name.endswith(\"ad\"), names))\n",
    "ends_with_ad"
   ]
  }
 ],
 "metadata": {
  "kernelspec": {
   "display_name": "Python 3 (ipykernel)",
   "language": "python",
   "name": "python3"
  },
  "language_info": {
   "codemirror_mode": {
    "name": "ipython",
    "version": 3
   },
   "file_extension": ".py",
   "mimetype": "text/x-python",
   "name": "python",
   "nbconvert_exporter": "python",
   "pygments_lexer": "ipython3",
   "version": "3.9.7"
  }
 },
 "nbformat": 4,
 "nbformat_minor": 5
}
