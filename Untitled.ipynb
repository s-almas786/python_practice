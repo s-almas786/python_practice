{
 "cells": [
  {
   "cell_type": "code",
   "execution_count": 1,
   "id": "4a17c3c0-ce70-4a99-a53c-1e12cd09d270",
   "metadata": {},
   "outputs": [],
   "source": [
    "def board_cr(board):\n",
    "    print(f\"{board[7]} | {board[8]} | {board[9]}\")\n",
    "    print(\"--+---+--\")\n",
    "    print(f\"{board[6]} | {board[5]} | {board[4]}\")\n",
    "    print(\"--+---+--\")\n",
    "    print(f\"{board[3]} | {board[2]} | {board[1]}\")"
   ]
  },
  {
   "cell_type": "code",
   "execution_count": 4,
   "id": "7c0f04ae",
   "metadata": {},
   "outputs": [
    {
     "name": "stdout",
     "output_type": "stream",
     "text": [
      "  |   |  \n",
      "--+---+--\n",
      "  |   |  \n",
      "--+---+--\n",
      "  |   |  \n"
     ]
    }
   ],
   "source": [
    "board = [\" \",\" \",\" \",\" \",\" \",\" \",\" \",\" \",\" \",\" \"]\n",
    "board_cr(board)"
   ]
  },
  {
   "cell_type": "code",
   "execution_count": null,
   "id": "628e19a8",
   "metadata": {},
   "outputs": [],
   "source": []
  }
 ],
 "metadata": {
  "kernelspec": {
   "display_name": "Python 3 (ipykernel)",
   "language": "python",
   "name": "python3"
  },
  "language_info": {
   "codemirror_mode": {
    "name": "ipython",
    "version": 3
   },
   "file_extension": ".py",
   "mimetype": "text/x-python",
   "name": "python",
   "nbconvert_exporter": "python",
   "pygments_lexer": "ipython3",
   "version": "3.9.7"
  }
 },
 "nbformat": 4,
 "nbformat_minor": 5
}
