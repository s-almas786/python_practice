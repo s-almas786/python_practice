{
 "cells": [
  {
   "cell_type": "code",
   "execution_count": 2,
   "id": "bf5d95ab",
   "metadata": {},
   "outputs": [
    {
     "name": "stdout",
     "output_type": "stream",
     "text": [
      "3\n",
      "33\n",
      "33\n",
      "45\n"
     ]
    }
   ],
   "source": [
    "if __name__ == '__main__':\n",
    "    N = int(input())\n",
    "    m=list()\n",
    "    for i in range(N):\n",
    "       method,*l=input().split()\n",
    "       k=list(map(int,l))\n",
    "       if len(k)==2:\n",
    "          q=[k[0]]\n",
    "          w=[k[1]]\n",
    "       elif len(k)==1:\n",
    "          q=[k[0]]\n",
    "       if method =='insert':\n",
    "          m.insert(q[0],w[0])\n",
    "       elif method == 'append':\n",
    "          m.append(q[0])\n",
    "       elif  method == 'remove':\n",
    "          m.remove(q[0])\n",
    "       elif method =='print':\n",
    "          print(m)\n",
    "       elif method == 'reverse':\n",
    "          m.reverse()\n",
    "       elif method =='pop':\n",
    "          m.pop()\n",
    "       elif method == 'sort':\n",
    "          m.sort()"
   ]
  },
  {
   "cell_type": "markdown",
   "id": "c8407596",
   "metadata": {},
   "source": []
  }
 ],
 "metadata": {
  "kernelspec": {
   "display_name": "Python 3 (ipykernel)",
   "language": "python",
   "name": "python3"
  },
  "language_info": {
   "codemirror_mode": {
    "name": "ipython",
    "version": 3
   },
   "file_extension": ".py",
   "mimetype": "text/x-python",
   "name": "python",
   "nbconvert_exporter": "python",
   "pygments_lexer": "ipython3",
   "version": "3.9.7"
  }
 },
 "nbformat": 4,
 "nbformat_minor": 5
}
